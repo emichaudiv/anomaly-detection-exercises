{
 "cells": [
  {
   "cell_type": "code",
   "execution_count": 1,
   "id": "7ea9c61c",
   "metadata": {},
   "outputs": [],
   "source": [
    "txt = 'anonymized-curriculum-access.txt'"
   ]
  },
  {
   "cell_type": "code",
   "execution_count": 2,
   "id": "a86c4f82",
   "metadata": {},
   "outputs": [],
   "source": [
    "import matplotlib.pyplot as plt\n",
    "import numpy as np\n",
    "import pandas as pd\n",
    "import seaborn as sns\n",
    "import env"
   ]
  },
  {
   "cell_type": "code",
   "execution_count": 3,
   "id": "9f29a10d",
   "metadata": {},
   "outputs": [],
   "source": [
    "df= pd.read_table('anonymized-curriculum-access.txt',header=None)"
   ]
  },
  {
   "cell_type": "code",
   "execution_count": 4,
   "id": "5d289d60",
   "metadata": {},
   "outputs": [
    {
     "data": {
      "text/html": [
       "<div>\n",
       "<style scoped>\n",
       "    .dataframe tbody tr th:only-of-type {\n",
       "        vertical-align: middle;\n",
       "    }\n",
       "\n",
       "    .dataframe tbody tr th {\n",
       "        vertical-align: top;\n",
       "    }\n",
       "\n",
       "    .dataframe thead th {\n",
       "        text-align: right;\n",
       "    }\n",
       "</style>\n",
       "<table border=\"1\" class=\"dataframe\">\n",
       "  <thead>\n",
       "    <tr style=\"text-align: right;\">\n",
       "      <th></th>\n",
       "      <th>0</th>\n",
       "    </tr>\n",
       "  </thead>\n",
       "  <tbody>\n",
       "    <tr>\n",
       "      <th>0</th>\n",
       "      <td>2018-01-26 09:55:03 / 1 8 97.105.19.61</td>\n",
       "    </tr>\n",
       "    <tr>\n",
       "      <th>1</th>\n",
       "      <td>2018-01-26 09:56:02 java-ii 1 8 97.105.19.61</td>\n",
       "    </tr>\n",
       "    <tr>\n",
       "      <th>2</th>\n",
       "      <td>2018-01-26 09:56:05 java-ii/object-oriented-pr...</td>\n",
       "    </tr>\n",
       "    <tr>\n",
       "      <th>3</th>\n",
       "      <td>2018-01-26 09:56:06 slides/object_oriented_pro...</td>\n",
       "    </tr>\n",
       "    <tr>\n",
       "      <th>4</th>\n",
       "      <td>2018-01-26 09:56:24 javascript-i/conditionals ...</td>\n",
       "    </tr>\n",
       "  </tbody>\n",
       "</table>\n",
       "</div>"
      ],
      "text/plain": [
       "                                                   0\n",
       "0             2018-01-26 09:55:03 / 1 8 97.105.19.61\n",
       "1       2018-01-26 09:56:02 java-ii 1 8 97.105.19.61\n",
       "2  2018-01-26 09:56:05 java-ii/object-oriented-pr...\n",
       "3  2018-01-26 09:56:06 slides/object_oriented_pro...\n",
       "4  2018-01-26 09:56:24 javascript-i/conditionals ..."
      ]
     },
     "execution_count": 4,
     "metadata": {},
     "output_type": "execute_result"
    }
   ],
   "source": [
    "df.head()"
   ]
  },
  {
   "cell_type": "code",
   "execution_count": 5,
   "id": "e654354a",
   "metadata": {},
   "outputs": [
    {
     "data": {
      "text/plain": [
       "0    896471\n",
       "dtype: int64"
      ]
     },
     "execution_count": 5,
     "metadata": {},
     "output_type": "execute_result"
    }
   ],
   "source": [
    "df.nunique()"
   ]
  },
  {
   "cell_type": "code",
   "execution_count": 6,
   "id": "ee876529",
   "metadata": {},
   "outputs": [
    {
     "data": {
      "text/plain": [
       "['2018-01-26', '09:55:03', '/', '1', '8', '97.105.19.61']"
      ]
     },
     "execution_count": 6,
     "metadata": {},
     "output_type": "execute_result"
    }
   ],
   "source": [
    "df[0][0].split()"
   ]
  },
  {
   "cell_type": "code",
   "execution_count": 7,
   "id": "1a22bed4",
   "metadata": {},
   "outputs": [
    {
     "data": {
      "text/plain": [
       "{'ip': '97.105.19.61', 'date': '2018-01-26', 'time': '09:55:03', 'java': '/'}"
      ]
     },
     "execution_count": 7,
     "metadata": {},
     "output_type": "execute_result"
    }
   ],
   "source": [
    "parts = df[0][0].split()\n",
    "\n",
    "output = {}\n",
    "output['ip'] = parts[5]\n",
    "output['date'] = parts[0]\n",
    "output['time'] = parts[1]\n",
    "output['java'] = parts[2]\n",
    "output"
   ]
  },
  {
   "cell_type": "code",
   "execution_count": 8,
   "id": "30cfd9e5",
   "metadata": {},
   "outputs": [
    {
     "data": {
      "text/plain": [
       "ip      97.105.19.61\n",
       "date      2018-01-26\n",
       "time        09:55:03\n",
       "java               /\n",
       "dtype: object"
      ]
     },
     "execution_count": 8,
     "metadata": {},
     "output_type": "execute_result"
    }
   ],
   "source": [
    "pd.Series(output)"
   ]
  },
  {
   "cell_type": "code",
   "execution_count": 9,
   "id": "d4658614",
   "metadata": {},
   "outputs": [],
   "source": [
    "def parse_log_entry(entry):\n",
    "    parts = entry.split()\n",
    "    output = {}\n",
    "    output['ip'] = parts[-1]\n",
    "    output['date'] = parts[0]\n",
    "    output['time'] = parts[1]\n",
    "    output['java'] = parts[2]\n",
    "    return pd.Series(output)"
   ]
  },
  {
   "cell_type": "code",
   "execution_count": 10,
   "id": "18b26e8e",
   "metadata": {},
   "outputs": [],
   "source": [
    "df = df[0].apply(parse_log_entry)"
   ]
  },
  {
   "cell_type": "code",
   "execution_count": 11,
   "id": "d3513def",
   "metadata": {},
   "outputs": [
    {
     "data": {
      "text/html": [
       "<div>\n",
       "<style scoped>\n",
       "    .dataframe tbody tr th:only-of-type {\n",
       "        vertical-align: middle;\n",
       "    }\n",
       "\n",
       "    .dataframe tbody tr th {\n",
       "        vertical-align: top;\n",
       "    }\n",
       "\n",
       "    .dataframe thead th {\n",
       "        text-align: right;\n",
       "    }\n",
       "</style>\n",
       "<table border=\"1\" class=\"dataframe\">\n",
       "  <thead>\n",
       "    <tr style=\"text-align: right;\">\n",
       "      <th></th>\n",
       "      <th>ip</th>\n",
       "      <th>date</th>\n",
       "      <th>time</th>\n",
       "      <th>java</th>\n",
       "    </tr>\n",
       "  </thead>\n",
       "  <tbody>\n",
       "    <tr>\n",
       "      <th>0</th>\n",
       "      <td>97.105.19.61</td>\n",
       "      <td>2018-01-26</td>\n",
       "      <td>09:55:03</td>\n",
       "      <td>/</td>\n",
       "    </tr>\n",
       "    <tr>\n",
       "      <th>1</th>\n",
       "      <td>97.105.19.61</td>\n",
       "      <td>2018-01-26</td>\n",
       "      <td>09:56:02</td>\n",
       "      <td>java-ii</td>\n",
       "    </tr>\n",
       "    <tr>\n",
       "      <th>2</th>\n",
       "      <td>97.105.19.61</td>\n",
       "      <td>2018-01-26</td>\n",
       "      <td>09:56:05</td>\n",
       "      <td>java-ii/object-oriented-programming</td>\n",
       "    </tr>\n",
       "    <tr>\n",
       "      <th>3</th>\n",
       "      <td>97.105.19.61</td>\n",
       "      <td>2018-01-26</td>\n",
       "      <td>09:56:06</td>\n",
       "      <td>slides/object_oriented_programming</td>\n",
       "    </tr>\n",
       "    <tr>\n",
       "      <th>4</th>\n",
       "      <td>97.105.19.61</td>\n",
       "      <td>2018-01-26</td>\n",
       "      <td>09:56:24</td>\n",
       "      <td>javascript-i/conditionals</td>\n",
       "    </tr>\n",
       "  </tbody>\n",
       "</table>\n",
       "</div>"
      ],
      "text/plain": [
       "             ip        date      time                                 java\n",
       "0  97.105.19.61  2018-01-26  09:55:03                                    /\n",
       "1  97.105.19.61  2018-01-26  09:56:02                              java-ii\n",
       "2  97.105.19.61  2018-01-26  09:56:05  java-ii/object-oriented-programming\n",
       "3  97.105.19.61  2018-01-26  09:56:06   slides/object_oriented_programming\n",
       "4  97.105.19.61  2018-01-26  09:56:24            javascript-i/conditionals"
      ]
     },
     "execution_count": 11,
     "metadata": {},
     "output_type": "execute_result"
    }
   ],
   "source": [
    "df.head()"
   ]
  },
  {
   "cell_type": "code",
   "execution_count": 12,
   "id": "f063e59a",
   "metadata": {},
   "outputs": [
    {
     "data": {
      "text/plain": [
       "97.105.19.58       284579\n",
       "97.105.19.61        61662\n",
       "192.171.117.210      9515\n",
       "71.150.217.33        6791\n",
       "76.185.145.231       4754\n",
       "                    ...  \n",
       "172.58.109.140          1\n",
       "99.203.213.59           1\n",
       "99.203.212.173          1\n",
       "173.239.198.246         1\n",
       "72.181.124.244          1\n",
       "Name: ip, Length: 5531, dtype: int64"
      ]
     },
     "execution_count": 12,
     "metadata": {},
     "output_type": "execute_result"
    }
   ],
   "source": [
    "df.ip.value_counts()"
   ]
  },
  {
   "cell_type": "code",
   "execution_count": 13,
   "id": "13ab8884",
   "metadata": {},
   "outputs": [
    {
     "data": {
      "text/html": [
       "<div>\n",
       "<style scoped>\n",
       "    .dataframe tbody tr th:only-of-type {\n",
       "        vertical-align: middle;\n",
       "    }\n",
       "\n",
       "    .dataframe tbody tr th {\n",
       "        vertical-align: top;\n",
       "    }\n",
       "\n",
       "    .dataframe thead th {\n",
       "        text-align: right;\n",
       "    }\n",
       "</style>\n",
       "<table border=\"1\" class=\"dataframe\">\n",
       "  <thead>\n",
       "    <tr style=\"text-align: right;\">\n",
       "      <th></th>\n",
       "      <th>ip</th>\n",
       "      <th>count</th>\n",
       "    </tr>\n",
       "  </thead>\n",
       "  <tbody>\n",
       "    <tr>\n",
       "      <th>0</th>\n",
       "      <td>97.105.19.58</td>\n",
       "      <td>284579</td>\n",
       "    </tr>\n",
       "    <tr>\n",
       "      <th>1</th>\n",
       "      <td>97.105.19.61</td>\n",
       "      <td>61662</td>\n",
       "    </tr>\n",
       "    <tr>\n",
       "      <th>2</th>\n",
       "      <td>192.171.117.210</td>\n",
       "      <td>9515</td>\n",
       "    </tr>\n",
       "    <tr>\n",
       "      <th>3</th>\n",
       "      <td>71.150.217.33</td>\n",
       "      <td>6791</td>\n",
       "    </tr>\n",
       "    <tr>\n",
       "      <th>4</th>\n",
       "      <td>76.185.145.231</td>\n",
       "      <td>4754</td>\n",
       "    </tr>\n",
       "  </tbody>\n",
       "</table>\n",
       "</div>"
      ],
      "text/plain": [
       "                ip   count\n",
       "0     97.105.19.58  284579\n",
       "1     97.105.19.61   61662\n",
       "2  192.171.117.210    9515\n",
       "3    71.150.217.33    6791\n",
       "4   76.185.145.231    4754"
      ]
     },
     "execution_count": 13,
     "metadata": {},
     "output_type": "execute_result"
    }
   ],
   "source": [
    "ip_df = pd.DataFrame(df.ip.value_counts(dropna=False)).reset_index().rename(columns={'index': 'ip', 'ip': 'count'})\n",
    "ip_df.head()"
   ]
  },
  {
   "cell_type": "code",
   "execution_count": 14,
   "id": "53884818",
   "metadata": {},
   "outputs": [
    {
     "data": {
      "text/plain": [
       "900223"
      ]
     },
     "execution_count": 14,
     "metadata": {},
     "output_type": "execute_result"
    }
   ],
   "source": [
    "df.ip.count()"
   ]
  },
  {
   "cell_type": "code",
   "execution_count": 15,
   "id": "00ae25cb",
   "metadata": {},
   "outputs": [
    {
     "data": {
      "text/html": [
       "<div>\n",
       "<style scoped>\n",
       "    .dataframe tbody tr th:only-of-type {\n",
       "        vertical-align: middle;\n",
       "    }\n",
       "\n",
       "    .dataframe tbody tr th {\n",
       "        vertical-align: top;\n",
       "    }\n",
       "\n",
       "    .dataframe thead th {\n",
       "        text-align: right;\n",
       "    }\n",
       "</style>\n",
       "<table border=\"1\" class=\"dataframe\">\n",
       "  <thead>\n",
       "    <tr style=\"text-align: right;\">\n",
       "      <th></th>\n",
       "      <th>ip</th>\n",
       "      <th>chance</th>\n",
       "    </tr>\n",
       "  </thead>\n",
       "  <tbody>\n",
       "    <tr>\n",
       "      <th>0</th>\n",
       "      <td>97.105.19.58</td>\n",
       "      <td>0.316121</td>\n",
       "    </tr>\n",
       "    <tr>\n",
       "      <th>1</th>\n",
       "      <td>97.105.19.61</td>\n",
       "      <td>0.068496</td>\n",
       "    </tr>\n",
       "    <tr>\n",
       "      <th>2</th>\n",
       "      <td>192.171.117.210</td>\n",
       "      <td>0.010570</td>\n",
       "    </tr>\n",
       "    <tr>\n",
       "      <th>3</th>\n",
       "      <td>71.150.217.33</td>\n",
       "      <td>0.007544</td>\n",
       "    </tr>\n",
       "    <tr>\n",
       "      <th>4</th>\n",
       "      <td>76.185.145.231</td>\n",
       "      <td>0.005281</td>\n",
       "    </tr>\n",
       "  </tbody>\n",
       "</table>\n",
       "</div>"
      ],
      "text/plain": [
       "                ip    chance\n",
       "0     97.105.19.58  0.316121\n",
       "1     97.105.19.61  0.068496\n",
       "2  192.171.117.210  0.010570\n",
       "3    71.150.217.33  0.007544\n",
       "4   76.185.145.231  0.005281"
      ]
     },
     "execution_count": 15,
     "metadata": {},
     "output_type": "execute_result"
    }
   ],
   "source": [
    "ip_df2 = pd.DataFrame((df.ip.value_counts(dropna=False))/df.ip.count()).reset_index().rename(columns={'index': 'ip', 'ip': 'chance'})\n",
    "ip_df2.head()"
   ]
  },
  {
   "cell_type": "code",
   "execution_count": 16,
   "id": "bbb63bbf",
   "metadata": {},
   "outputs": [
    {
     "data": {
      "text/plain": [
       "0.3161205612387153"
      ]
     },
     "execution_count": 16,
     "metadata": {},
     "output_type": "execute_result"
    }
   ],
   "source": [
    "284579/900223"
   ]
  },
  {
   "cell_type": "code",
   "execution_count": 17,
   "id": "bc35c383",
   "metadata": {},
   "outputs": [
    {
     "data": {
      "text/html": [
       "<div>\n",
       "<style scoped>\n",
       "    .dataframe tbody tr th:only-of-type {\n",
       "        vertical-align: middle;\n",
       "    }\n",
       "\n",
       "    .dataframe tbody tr th {\n",
       "        vertical-align: top;\n",
       "    }\n",
       "\n",
       "    .dataframe thead th {\n",
       "        text-align: right;\n",
       "    }\n",
       "</style>\n",
       "<table border=\"1\" class=\"dataframe\">\n",
       "  <thead>\n",
       "    <tr style=\"text-align: right;\">\n",
       "      <th></th>\n",
       "      <th>ip</th>\n",
       "      <th>count</th>\n",
       "      <th>chance</th>\n",
       "    </tr>\n",
       "  </thead>\n",
       "  <tbody>\n",
       "    <tr>\n",
       "      <th>0</th>\n",
       "      <td>97.105.19.58</td>\n",
       "      <td>284579</td>\n",
       "      <td>0.316121</td>\n",
       "    </tr>\n",
       "    <tr>\n",
       "      <th>1</th>\n",
       "      <td>97.105.19.61</td>\n",
       "      <td>61662</td>\n",
       "      <td>0.068496</td>\n",
       "    </tr>\n",
       "    <tr>\n",
       "      <th>2</th>\n",
       "      <td>192.171.117.210</td>\n",
       "      <td>9515</td>\n",
       "      <td>0.010570</td>\n",
       "    </tr>\n",
       "    <tr>\n",
       "      <th>3</th>\n",
       "      <td>71.150.217.33</td>\n",
       "      <td>6791</td>\n",
       "      <td>0.007544</td>\n",
       "    </tr>\n",
       "    <tr>\n",
       "      <th>4</th>\n",
       "      <td>76.185.145.231</td>\n",
       "      <td>4754</td>\n",
       "      <td>0.005281</td>\n",
       "    </tr>\n",
       "  </tbody>\n",
       "</table>\n",
       "</div>"
      ],
      "text/plain": [
       "                ip   count    chance\n",
       "0     97.105.19.58  284579  0.316121\n",
       "1     97.105.19.61   61662  0.068496\n",
       "2  192.171.117.210    9515  0.010570\n",
       "3    71.150.217.33    6791  0.007544\n",
       "4   76.185.145.231    4754  0.005281"
      ]
     },
     "execution_count": 17,
     "metadata": {},
     "output_type": "execute_result"
    }
   ],
   "source": [
    "ip_df = ip_df.merge(ip_df2, on='ip')\n",
    "ip_df.head()"
   ]
  },
  {
   "cell_type": "code",
   "execution_count": 18,
   "id": "37cf4934",
   "metadata": {},
   "outputs": [
    {
     "data": {
      "text/plain": [
       "ip\n",
       "72.181.124.244          1\n",
       "99.203.154.42           1\n",
       "99.203.27.189           1\n",
       "131.194.184.123         1\n",
       "107.242.125.44          1\n",
       "                    ...  \n",
       "76.185.145.231       4754\n",
       "71.150.217.33        6791\n",
       "192.171.117.210      9515\n",
       "97.105.19.61        61662\n",
       "97.105.19.58       284579\n",
       "Name: count, Length: 5531, dtype: int64"
      ]
     },
     "execution_count": 18,
     "metadata": {},
     "output_type": "execute_result"
    }
   ],
   "source": [
    "ip_df.set_index('ip')['count'].sort_values()"
   ]
  },
  {
   "cell_type": "code",
   "execution_count": 19,
   "id": "e9b1b7dd",
   "metadata": {},
   "outputs": [
    {
     "data": {
      "image/png": "[encoded data removed]",
      "text/plain": [
       "<Figure size 640x480 with 1 Axes>"
      ]
     },
     "metadata": {},
     "output_type": "display_data"
    }
   ],
   "source": [
    "ip_df.set_index('ip')['count'].sort_values().tail(5).plot.barh()\n",
    "plt.show()"
   ]
  },
  {
   "cell_type": "code",
   "execution_count": 20,
   "id": "798d8341",
   "metadata": {},
   "outputs": [
    {
     "data": {
      "image/png": "[encoded data removed]",
      "text/plain": [
       "<Figure size 500x500 with 1 Axes>"
      ]
     },
     "metadata": {},
     "output_type": "display_data"
    }
   ],
   "source": [
    "ip_df.set_index('ip')['count'].sort_values().tail(20).plot.barh(figsize=(5,5))\n",
    "plt.show()"
   ]
  },
  {
   "cell_type": "code",
   "execution_count": 21,
   "id": "ac3a31fc",
   "metadata": {},
   "outputs": [
    {
     "data": {
      "text/html": [
       "<div>\n",
       "<style scoped>\n",
       "    .dataframe tbody tr th:only-of-type {\n",
       "        vertical-align: middle;\n",
       "    }\n",
       "\n",
       "    .dataframe tbody tr th {\n",
       "        vertical-align: top;\n",
       "    }\n",
       "\n",
       "    .dataframe thead th {\n",
       "        text-align: right;\n",
       "    }\n",
       "</style>\n",
       "<table border=\"1\" class=\"dataframe\">\n",
       "  <thead>\n",
       "    <tr style=\"text-align: right;\">\n",
       "      <th></th>\n",
       "      <th>time</th>\n",
       "      <th>count</th>\n",
       "    </tr>\n",
       "  </thead>\n",
       "  <tbody>\n",
       "    <tr>\n",
       "      <th>0</th>\n",
       "      <td>09:03:00</td>\n",
       "      <td>81</td>\n",
       "    </tr>\n",
       "    <tr>\n",
       "      <th>1</th>\n",
       "      <td>09:01:59</td>\n",
       "      <td>79</td>\n",
       "    </tr>\n",
       "    <tr>\n",
       "      <th>2</th>\n",
       "      <td>09:02:45</td>\n",
       "      <td>75</td>\n",
       "    </tr>\n",
       "    <tr>\n",
       "      <th>3</th>\n",
       "      <td>09:02:16</td>\n",
       "      <td>75</td>\n",
       "    </tr>\n",
       "    <tr>\n",
       "      <th>4</th>\n",
       "      <td>09:05:45</td>\n",
       "      <td>74</td>\n",
       "    </tr>\n",
       "  </tbody>\n",
       "</table>\n",
       "</div>"
      ],
      "text/plain": [
       "       time  count\n",
       "0  09:03:00     81\n",
       "1  09:01:59     79\n",
       "2  09:02:45     75\n",
       "3  09:02:16     75\n",
       "4  09:05:45     74"
      ]
     },
     "execution_count": 21,
     "metadata": {},
     "output_type": "execute_result"
    }
   ],
   "source": [
    "time_df = pd.DataFrame(df.time.value_counts(dropna=False)).reset_index().rename(columns={'index': 'time', 'time': 'count'})\n",
    "time_df.head()"
   ]
  },
  {
   "cell_type": "code",
   "execution_count": 24,
   "id": "46cab464",
   "metadata": {},
   "outputs": [
    {
     "data": {
      "text/html": [
       "<div>\n",
       "<style scoped>\n",
       "    .dataframe tbody tr th:only-of-type {\n",
       "        vertical-align: middle;\n",
       "    }\n",
       "\n",
       "    .dataframe tbody tr th {\n",
       "        vertical-align: top;\n",
       "    }\n",
       "\n",
       "    .dataframe thead th {\n",
       "        text-align: right;\n",
       "    }\n",
       "</style>\n",
       "<table border=\"1\" class=\"dataframe\">\n",
       "  <thead>\n",
       "    <tr style=\"text-align: right;\">\n",
       "      <th></th>\n",
       "      <th>time</th>\n",
       "      <th>count</th>\n",
       "      <th>ip</th>\n",
       "      <th>chance</th>\n",
       "    </tr>\n",
       "  </thead>\n",
       "  <tbody>\n",
       "    <tr>\n",
       "      <th>19388811</th>\n",
       "      <td>07:28:59</td>\n",
       "      <td>1</td>\n",
       "      <td>172.58.109.140</td>\n",
       "      <td>0.000001</td>\n",
       "    </tr>\n",
       "    <tr>\n",
       "      <th>19388812</th>\n",
       "      <td>07:28:59</td>\n",
       "      <td>1</td>\n",
       "      <td>99.203.213.59</td>\n",
       "      <td>0.000001</td>\n",
       "    </tr>\n",
       "    <tr>\n",
       "      <th>19388813</th>\n",
       "      <td>07:28:59</td>\n",
       "      <td>1</td>\n",
       "      <td>99.203.212.173</td>\n",
       "      <td>0.000001</td>\n",
       "    </tr>\n",
       "    <tr>\n",
       "      <th>19388814</th>\n",
       "      <td>07:28:59</td>\n",
       "      <td>1</td>\n",
       "      <td>173.239.198.246</td>\n",
       "      <td>0.000001</td>\n",
       "    </tr>\n",
       "    <tr>\n",
       "      <th>19388815</th>\n",
       "      <td>07:28:59</td>\n",
       "      <td>1</td>\n",
       "      <td>72.181.124.244</td>\n",
       "      <td>0.000001</td>\n",
       "    </tr>\n",
       "  </tbody>\n",
       "</table>\n",
       "</div>"
      ],
      "text/plain": [
       "              time  count               ip    chance\n",
       "19388811  07:28:59      1   172.58.109.140  0.000001\n",
       "19388812  07:28:59      1    99.203.213.59  0.000001\n",
       "19388813  07:28:59      1   99.203.212.173  0.000001\n",
       "19388814  07:28:59      1  173.239.198.246  0.000001\n",
       "19388815  07:28:59      1   72.181.124.244  0.000001"
      ]
     },
     "execution_count": 24,
     "metadata": {},
     "output_type": "execute_result"
    }
   ],
   "source": [
    "time_df.tail()"
   ]
  },
  {
   "cell_type": "code",
   "execution_count": 22,
   "id": "79d64ad7",
   "metadata": {},
   "outputs": [
    {
     "data": {
      "image/png": "[encoded data removed]",
      "text/plain": [
       "<Figure size 640x480 with 1 Axes>"
      ]
     },
     "metadata": {},
     "output_type": "display_data"
    }
   ],
   "source": [
    "time_df.set_index('time')['count'].sort_values().tail(50).plot.barh()\n",
    "plt.show()"
   ]
  },
  {
   "cell_type": "code",
   "execution_count": 23,
   "id": "b6a9c49d",
   "metadata": {},
   "outputs": [
    {
     "data": {
      "text/html": [
       "<div>\n",
       "<style scoped>\n",
       "    .dataframe tbody tr th:only-of-type {\n",
       "        vertical-align: middle;\n",
       "    }\n",
       "\n",
       "    .dataframe tbody tr th {\n",
       "        vertical-align: top;\n",
       "    }\n",
       "\n",
       "    .dataframe thead th {\n",
       "        text-align: right;\n",
       "    }\n",
       "</style>\n",
       "<table border=\"1\" class=\"dataframe\">\n",
       "  <thead>\n",
       "    <tr style=\"text-align: right;\">\n",
       "      <th></th>\n",
       "      <th>time</th>\n",
       "      <th>count</th>\n",
       "      <th>ip</th>\n",
       "      <th>chance</th>\n",
       "    </tr>\n",
       "  </thead>\n",
       "  <tbody>\n",
       "    <tr>\n",
       "      <th>0</th>\n",
       "      <td>09:03:00</td>\n",
       "      <td>81</td>\n",
       "      <td>104.219.136.100</td>\n",
       "      <td>0.000090</td>\n",
       "    </tr>\n",
       "    <tr>\n",
       "      <th>1</th>\n",
       "      <td>09:03:00</td>\n",
       "      <td>81</td>\n",
       "      <td>72.191.30.236</td>\n",
       "      <td>0.000090</td>\n",
       "    </tr>\n",
       "    <tr>\n",
       "      <th>2</th>\n",
       "      <td>09:03:00</td>\n",
       "      <td>81</td>\n",
       "      <td>70.114.36.54</td>\n",
       "      <td>0.000090</td>\n",
       "    </tr>\n",
       "    <tr>\n",
       "      <th>3</th>\n",
       "      <td>09:03:00</td>\n",
       "      <td>81</td>\n",
       "      <td>47.183.128.23</td>\n",
       "      <td>0.000090</td>\n",
       "    </tr>\n",
       "    <tr>\n",
       "      <th>4</th>\n",
       "      <td>09:03:00</td>\n",
       "      <td>81</td>\n",
       "      <td>24.243.31.59</td>\n",
       "      <td>0.000090</td>\n",
       "    </tr>\n",
       "    <tr>\n",
       "      <th>5</th>\n",
       "      <td>09:01:59</td>\n",
       "      <td>79</td>\n",
       "      <td>136.49.16.212</td>\n",
       "      <td>0.000088</td>\n",
       "    </tr>\n",
       "    <tr>\n",
       "      <th>6</th>\n",
       "      <td>09:01:59</td>\n",
       "      <td>79</td>\n",
       "      <td>173.174.211.244</td>\n",
       "      <td>0.000088</td>\n",
       "    </tr>\n",
       "    <tr>\n",
       "      <th>7</th>\n",
       "      <td>09:01:59</td>\n",
       "      <td>79</td>\n",
       "      <td>71.158.155.73</td>\n",
       "      <td>0.000088</td>\n",
       "    </tr>\n",
       "    <tr>\n",
       "      <th>8</th>\n",
       "      <td>09:01:59</td>\n",
       "      <td>79</td>\n",
       "      <td>23.228.172.124</td>\n",
       "      <td>0.000088</td>\n",
       "    </tr>\n",
       "    <tr>\n",
       "      <th>9</th>\n",
       "      <td>09:01:59</td>\n",
       "      <td>79</td>\n",
       "      <td>71.137.144.185</td>\n",
       "      <td>0.000088</td>\n",
       "    </tr>\n",
       "    <tr>\n",
       "      <th>10</th>\n",
       "      <td>09:01:59</td>\n",
       "      <td>79</td>\n",
       "      <td>71.158.155.118</td>\n",
       "      <td>0.000088</td>\n",
       "    </tr>\n",
       "    <tr>\n",
       "      <th>11</th>\n",
       "      <td>09:01:59</td>\n",
       "      <td>79</td>\n",
       "      <td>67.78.112.162</td>\n",
       "      <td>0.000088</td>\n",
       "    </tr>\n",
       "    <tr>\n",
       "      <th>12</th>\n",
       "      <td>09:02:45</td>\n",
       "      <td>75</td>\n",
       "      <td>67.11.215.110</td>\n",
       "      <td>0.000083</td>\n",
       "    </tr>\n",
       "    <tr>\n",
       "      <th>13</th>\n",
       "      <td>09:02:45</td>\n",
       "      <td>75</td>\n",
       "      <td>172.110.80.227</td>\n",
       "      <td>0.000083</td>\n",
       "    </tr>\n",
       "    <tr>\n",
       "      <th>14</th>\n",
       "      <td>09:02:45</td>\n",
       "      <td>75</td>\n",
       "      <td>71.62.94.245</td>\n",
       "      <td>0.000083</td>\n",
       "    </tr>\n",
       "    <tr>\n",
       "      <th>15</th>\n",
       "      <td>09:02:45</td>\n",
       "      <td>75</td>\n",
       "      <td>67.80.48.111</td>\n",
       "      <td>0.000083</td>\n",
       "    </tr>\n",
       "    <tr>\n",
       "      <th>16</th>\n",
       "      <td>09:02:45</td>\n",
       "      <td>75</td>\n",
       "      <td>70.123.205.224</td>\n",
       "      <td>0.000083</td>\n",
       "    </tr>\n",
       "    <tr>\n",
       "      <th>17</th>\n",
       "      <td>09:02:45</td>\n",
       "      <td>75</td>\n",
       "      <td>70.130.122.154</td>\n",
       "      <td>0.000083</td>\n",
       "    </tr>\n",
       "    <tr>\n",
       "      <th>18</th>\n",
       "      <td>09:02:45</td>\n",
       "      <td>75</td>\n",
       "      <td>68.206.254.17</td>\n",
       "      <td>0.000083</td>\n",
       "    </tr>\n",
       "    <tr>\n",
       "      <th>19</th>\n",
       "      <td>09:02:45</td>\n",
       "      <td>75</td>\n",
       "      <td>173.174.212.103</td>\n",
       "      <td>0.000083</td>\n",
       "    </tr>\n",
       "  </tbody>\n",
       "</table>\n",
       "</div>"
      ],
      "text/plain": [
       "        time  count               ip    chance\n",
       "0   09:03:00     81  104.219.136.100  0.000090\n",
       "1   09:03:00     81    72.191.30.236  0.000090\n",
       "2   09:03:00     81     70.114.36.54  0.000090\n",
       "3   09:03:00     81    47.183.128.23  0.000090\n",
       "4   09:03:00     81     24.243.31.59  0.000090\n",
       "5   09:01:59     79    136.49.16.212  0.000088\n",
       "6   09:01:59     79  173.174.211.244  0.000088\n",
       "7   09:01:59     79    71.158.155.73  0.000088\n",
       "8   09:01:59     79   23.228.172.124  0.000088\n",
       "9   09:01:59     79   71.137.144.185  0.000088\n",
       "10  09:01:59     79   71.158.155.118  0.000088\n",
       "11  09:01:59     79    67.78.112.162  0.000088\n",
       "12  09:02:45     75    67.11.215.110  0.000083\n",
       "13  09:02:45     75   172.110.80.227  0.000083\n",
       "14  09:02:45     75     71.62.94.245  0.000083\n",
       "15  09:02:45     75     67.80.48.111  0.000083\n",
       "16  09:02:45     75   70.123.205.224  0.000083\n",
       "17  09:02:45     75   70.130.122.154  0.000083\n",
       "18  09:02:45     75    68.206.254.17  0.000083\n",
       "19  09:02:45     75  173.174.212.103  0.000083"
      ]
     },
     "execution_count": 23,
     "metadata": {},
     "output_type": "execute_result"
    }
   ],
   "source": [
    "time_df = time_df.merge(ip_df, on='count')\n",
    "time_df.head(20)"
   ]
  },
  {
   "cell_type": "markdown",
   "id": "feae94a0",
   "metadata": {},
   "source": [
    "1.  97.105.19.58 has 284579 visits, 97.105.19.61 has 61662 visits, 192.171.117.210 has 9515 visits, 71.150.217.33 has 6791 visits, 76.185.145.231 has 4754 visits\n",
    "2. 04.219.136.100,72.191.30.236,70.114.36.54,47.183.128.23 and 24.243.31.59 have an equal amounts of high traffic\n",
    "4. 172.58.109.140, 99.203.213.59, 99.203.212.173, 173.239.198.246, and 72.181.124.244 seem to operate at unusual hours.\n",
    "6. 97.105.19.58, 97.105.19.61, 192.171.117.210, 71.150.217.33, and 76.185.145.231 are referenced alot\n",
    "7. 76.185.145.231, 71.150.217.33, 192.171.117.210, 97.105.19.61, and 97.105.19.58 are least viewed\n"
   ]
  },
  {
   "cell_type": "code",
   "execution_count": null,
   "id": "d9f4e3d5",
   "metadata": {},
   "outputs": [],
   "source": []
  }
 ],
 "metadata": {
  "kernelspec": {
   "display_name": "Python 3 (ipykernel)",
   "language": "python",
   "name": "python3"
  },
  "language_info": {
   "codemirror_mode": {
    "name": "ipython",
    "version": 3
   },
   "file_extension": ".py",
   "mimetype": "text/x-python",
   "name": "python",
   "nbconvert_exporter": "python",
   "pygments_lexer": "ipython3",
   "version": "3.9.13"
  }
 },
 "nbformat": 4,
 "nbformat_minor": 5
}
