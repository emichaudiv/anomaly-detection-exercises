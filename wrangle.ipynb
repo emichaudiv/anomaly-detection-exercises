{
 "cells": [
  {
   "cell_type": "code",
   "execution_count": 1,
   "id": "88ab4ccb",
   "metadata": {},
   "outputs": [],
   "source": [
    "txt = 'anonymized-curriculum-access.txt'"
   ]
  },
  {
   "cell_type": "code",
   "execution_count": 2,
   "id": "a2f81703",
   "metadata": {},
   "outputs": [],
   "source": [
    "import matplotlib.pyplot as plt\n",
    "import numpy as np\n",
    "import pandas as pd\n",
    "import seaborn as sns\n",
    "import env"
   ]
  },
  {
   "cell_type": "code",
   "execution_count": 3,
   "id": "1fcb9fb8",
   "metadata": {},
   "outputs": [],
   "source": [
    "#Importing all the things needed to view the data"
   ]
  },
  {
   "cell_type": "code",
   "execution_count": 4,
   "id": "fe19fc95",
   "metadata": {},
   "outputs": [],
   "source": [
    "df= pd.read_table('anonymized-curriculum-access.txt',header=None)"
   ]
  },
  {
   "cell_type": "code",
   "execution_count": 5,
   "id": "be0e1728",
   "metadata": {
    "scrolled": false
   },
   "outputs": [
    {
     "data": {
      "text/html": [
       "<div>\n",
       "<style scoped>\n",
       "    .dataframe tbody tr th:only-of-type {\n",
       "        vertical-align: middle;\n",
       "    }\n",
       "\n",
       "    .dataframe tbody tr th {\n",
       "        vertical-align: top;\n",
       "    }\n",
       "\n",
       "    .dataframe thead th {\n",
       "        text-align: right;\n",
       "    }\n",
       "</style>\n",
       "<table border=\"1\" class=\"dataframe\">\n",
       "  <thead>\n",
       "    <tr style=\"text-align: right;\">\n",
       "      <th></th>\n",
       "      <th>0</th>\n",
       "    </tr>\n",
       "  </thead>\n",
       "  <tbody>\n",
       "    <tr>\n",
       "      <th>0</th>\n",
       "      <td>2018-01-26 09:55:03 / 1 8 97.105.19.61</td>\n",
       "    </tr>\n",
       "    <tr>\n",
       "      <th>1</th>\n",
       "      <td>2018-01-26 09:56:02 java-ii 1 8 97.105.19.61</td>\n",
       "    </tr>\n",
       "    <tr>\n",
       "      <th>2</th>\n",
       "      <td>2018-01-26 09:56:05 java-ii/object-oriented-pr...</td>\n",
       "    </tr>\n",
       "    <tr>\n",
       "      <th>3</th>\n",
       "      <td>2018-01-26 09:56:06 slides/object_oriented_pro...</td>\n",
       "    </tr>\n",
       "    <tr>\n",
       "      <th>4</th>\n",
       "      <td>2018-01-26 09:56:24 javascript-i/conditionals ...</td>\n",
       "    </tr>\n",
       "  </tbody>\n",
       "</table>\n",
       "</div>"
      ],
      "text/plain": [
       "                                                   0\n",
       "0             2018-01-26 09:55:03 / 1 8 97.105.19.61\n",
       "1       2018-01-26 09:56:02 java-ii 1 8 97.105.19.61\n",
       "2  2018-01-26 09:56:05 java-ii/object-oriented-pr...\n",
       "3  2018-01-26 09:56:06 slides/object_oriented_pro...\n",
       "4  2018-01-26 09:56:24 javascript-i/conditionals ..."
      ]
     },
     "execution_count": 5,
     "metadata": {},
     "output_type": "execute_result"
    }
   ],
   "source": [
    "df.head()"
   ]
  },
  {
   "cell_type": "code",
   "execution_count": 6,
   "id": "1c9d0661",
   "metadata": {},
   "outputs": [],
   "source": [
    "#Cheking the data "
   ]
  },
  {
   "cell_type": "code",
   "execution_count": 7,
   "id": "cee7d761",
   "metadata": {
    "scrolled": true
   },
   "outputs": [
    {
     "data": {
      "text/plain": [
       "0    896471\n",
       "dtype: int64"
      ]
     },
     "execution_count": 7,
     "metadata": {},
     "output_type": "execute_result"
    }
   ],
   "source": [
    "df.nunique()"
   ]
  },
  {
   "cell_type": "code",
   "execution_count": 8,
   "id": "17c8b952",
   "metadata": {},
   "outputs": [],
   "source": [
    "#Checking the amount of entries, let's clean the data"
   ]
  },
  {
   "cell_type": "code",
   "execution_count": 9,
   "id": "9c7bd4d3",
   "metadata": {},
   "outputs": [
    {
     "data": {
      "text/plain": [
       "['2018-01-26', '09:55:03', '/', '1', '8', '97.105.19.61']"
      ]
     },
     "execution_count": 9,
     "metadata": {},
     "output_type": "execute_result"
    }
   ],
   "source": [
    "df[0][0].split()"
   ]
  },
  {
   "cell_type": "code",
   "execution_count": 10,
   "id": "3832e766",
   "metadata": {},
   "outputs": [],
   "source": [
    "#taking it appart to be aranged more coherently "
   ]
  },
  {
   "cell_type": "code",
   "execution_count": 11,
   "id": "ff567420",
   "metadata": {},
   "outputs": [
    {
     "data": {
      "text/plain": [
       "{'date': '2018-01-26',\n",
       " 'time': '09:55:03',\n",
       " 'address': '/',\n",
       " 'ip': '97.105.19.61'}"
      ]
     },
     "execution_count": 11,
     "metadata": {},
     "output_type": "execute_result"
    }
   ],
   "source": [
    "parts = df[0][0].split()\n",
    "\n",
    "output = {}\n",
    "output['date'] = parts[0]\n",
    "output['time'] = parts[1]\n",
    "output['address'] = parts[2]\n",
    "output['ip'] = parts[5]\n",
    "output"
   ]
  },
  {
   "cell_type": "code",
   "execution_count": 12,
   "id": "26de64eb",
   "metadata": {
    "scrolled": true
   },
   "outputs": [
    {
     "data": {
      "text/plain": [
       "date         2018-01-26\n",
       "time           09:55:03\n",
       "address               /\n",
       "ip         97.105.19.61\n",
       "dtype: object"
      ]
     },
     "execution_count": 12,
     "metadata": {},
     "output_type": "execute_result"
    }
   ],
   "source": [
    "pd.Series(output)"
   ]
  },
  {
   "cell_type": "code",
   "execution_count": 13,
   "id": "f1e0562d",
   "metadata": {},
   "outputs": [],
   "source": [
    "#It's time to make it a function"
   ]
  },
  {
   "cell_type": "code",
   "execution_count": 14,
   "id": "b5520ca0",
   "metadata": {},
   "outputs": [],
   "source": [
    "def parse_log_entry(entry):\n",
    "    parts = entry.split()\n",
    "    output = {}\n",
    "\n",
    "    output['date'] = parts[0]\n",
    "    output['time'] = parts[1]\n",
    "    output['address'] = parts[2]\n",
    "    output['ip'] = parts[-1]\n",
    "    return pd.Series(output)"
   ]
  },
  {
   "cell_type": "code",
   "execution_count": 15,
   "id": "7cf37943",
   "metadata": {},
   "outputs": [],
   "source": [
    "df = df[0].apply(parse_log_entry)"
   ]
  },
  {
   "cell_type": "code",
   "execution_count": 16,
   "id": "d4b545a8",
   "metadata": {},
   "outputs": [],
   "source": [
    "# Now to apply to the dataframe"
   ]
  },
  {
   "cell_type": "code",
   "execution_count": 17,
   "id": "9375535e",
   "metadata": {},
   "outputs": [
    {
     "data": {
      "text/html": [
       "<div>\n",
       "<style scoped>\n",
       "    .dataframe tbody tr th:only-of-type {\n",
       "        vertical-align: middle;\n",
       "    }\n",
       "\n",
       "    .dataframe tbody tr th {\n",
       "        vertical-align: top;\n",
       "    }\n",
       "\n",
       "    .dataframe thead th {\n",
       "        text-align: right;\n",
       "    }\n",
       "</style>\n",
       "<table border=\"1\" class=\"dataframe\">\n",
       "  <thead>\n",
       "    <tr style=\"text-align: right;\">\n",
       "      <th></th>\n",
       "      <th>date</th>\n",
       "      <th>time</th>\n",
       "      <th>address</th>\n",
       "      <th>ip</th>\n",
       "    </tr>\n",
       "  </thead>\n",
       "  <tbody>\n",
       "    <tr>\n",
       "      <th>0</th>\n",
       "      <td>2018-01-26</td>\n",
       "      <td>09:55:03</td>\n",
       "      <td>/</td>\n",
       "      <td>97.105.19.61</td>\n",
       "    </tr>\n",
       "    <tr>\n",
       "      <th>1</th>\n",
       "      <td>2018-01-26</td>\n",
       "      <td>09:56:02</td>\n",
       "      <td>java-ii</td>\n",
       "      <td>97.105.19.61</td>\n",
       "    </tr>\n",
       "    <tr>\n",
       "      <th>2</th>\n",
       "      <td>2018-01-26</td>\n",
       "      <td>09:56:05</td>\n",
       "      <td>java-ii/object-oriented-programming</td>\n",
       "      <td>97.105.19.61</td>\n",
       "    </tr>\n",
       "    <tr>\n",
       "      <th>3</th>\n",
       "      <td>2018-01-26</td>\n",
       "      <td>09:56:06</td>\n",
       "      <td>slides/object_oriented_programming</td>\n",
       "      <td>97.105.19.61</td>\n",
       "    </tr>\n",
       "    <tr>\n",
       "      <th>4</th>\n",
       "      <td>2018-01-26</td>\n",
       "      <td>09:56:24</td>\n",
       "      <td>javascript-i/conditionals</td>\n",
       "      <td>97.105.19.61</td>\n",
       "    </tr>\n",
       "  </tbody>\n",
       "</table>\n",
       "</div>"
      ],
      "text/plain": [
       "         date      time                              address            ip\n",
       "0  2018-01-26  09:55:03                                    /  97.105.19.61\n",
       "1  2018-01-26  09:56:02                              java-ii  97.105.19.61\n",
       "2  2018-01-26  09:56:05  java-ii/object-oriented-programming  97.105.19.61\n",
       "3  2018-01-26  09:56:06   slides/object_oriented_programming  97.105.19.61\n",
       "4  2018-01-26  09:56:24            javascript-i/conditionals  97.105.19.61"
      ]
     },
     "execution_count": 17,
     "metadata": {},
     "output_type": "execute_result"
    }
   ],
   "source": [
    "df.head()"
   ]
  },
  {
   "cell_type": "code",
   "execution_count": 18,
   "id": "b5b7de1f",
   "metadata": {
    "scrolled": true
   },
   "outputs": [
    {
     "data": {
      "text/plain": [
       "97.105.19.58       284579\n",
       "97.105.19.61        61662\n",
       "192.171.117.210      9515\n",
       "71.150.217.33        6791\n",
       "76.185.145.231       4754\n",
       "                    ...  \n",
       "172.58.109.140          1\n",
       "99.203.213.59           1\n",
       "99.203.212.173          1\n",
       "173.239.198.246         1\n",
       "72.181.124.244          1\n",
       "Name: ip, Length: 5531, dtype: int64"
      ]
     },
     "execution_count": 18,
     "metadata": {},
     "output_type": "execute_result"
    }
   ],
   "source": [
    "df.ip.value_counts()"
   ]
  },
  {
   "cell_type": "code",
   "execution_count": 19,
   "id": "4699d3f7",
   "metadata": {},
   "outputs": [],
   "source": [
    "#checking the count of each ip address"
   ]
  },
  {
   "cell_type": "code",
   "execution_count": 20,
   "id": "159b330d",
   "metadata": {
    "scrolled": true
   },
   "outputs": [
    {
     "data": {
      "text/html": [
       "<div>\n",
       "<style scoped>\n",
       "    .dataframe tbody tr th:only-of-type {\n",
       "        vertical-align: middle;\n",
       "    }\n",
       "\n",
       "    .dataframe tbody tr th {\n",
       "        vertical-align: top;\n",
       "    }\n",
       "\n",
       "    .dataframe thead th {\n",
       "        text-align: right;\n",
       "    }\n",
       "</style>\n",
       "<table border=\"1\" class=\"dataframe\">\n",
       "  <thead>\n",
       "    <tr style=\"text-align: right;\">\n",
       "      <th></th>\n",
       "      <th>ip</th>\n",
       "      <th>count</th>\n",
       "    </tr>\n",
       "  </thead>\n",
       "  <tbody>\n",
       "    <tr>\n",
       "      <th>0</th>\n",
       "      <td>97.105.19.58</td>\n",
       "      <td>284579</td>\n",
       "    </tr>\n",
       "    <tr>\n",
       "      <th>1</th>\n",
       "      <td>97.105.19.61</td>\n",
       "      <td>61662</td>\n",
       "    </tr>\n",
       "    <tr>\n",
       "      <th>2</th>\n",
       "      <td>192.171.117.210</td>\n",
       "      <td>9515</td>\n",
       "    </tr>\n",
       "    <tr>\n",
       "      <th>3</th>\n",
       "      <td>71.150.217.33</td>\n",
       "      <td>6791</td>\n",
       "    </tr>\n",
       "    <tr>\n",
       "      <th>4</th>\n",
       "      <td>76.185.145.231</td>\n",
       "      <td>4754</td>\n",
       "    </tr>\n",
       "  </tbody>\n",
       "</table>\n",
       "</div>"
      ],
      "text/plain": [
       "                ip   count\n",
       "0     97.105.19.58  284579\n",
       "1     97.105.19.61   61662\n",
       "2  192.171.117.210    9515\n",
       "3    71.150.217.33    6791\n",
       "4   76.185.145.231    4754"
      ]
     },
     "execution_count": 20,
     "metadata": {},
     "output_type": "execute_result"
    }
   ],
   "source": [
    "ip_df = pd.DataFrame(df.ip.value_counts(dropna=False)).reset_index().rename(columns={'index': 'ip', 'ip': 'count'})\n",
    "ip_df.head()"
   ]
  },
  {
   "cell_type": "code",
   "execution_count": 21,
   "id": "98b8b1f5",
   "metadata": {},
   "outputs": [],
   "source": [
    "# finding the ip with the most counts"
   ]
  },
  {
   "cell_type": "code",
   "execution_count": 22,
   "id": "8b1fd0b9",
   "metadata": {
    "scrolled": true
   },
   "outputs": [
    {
     "data": {
      "text/plain": [
       "900223"
      ]
     },
     "execution_count": 22,
     "metadata": {},
     "output_type": "execute_result"
    }
   ],
   "source": [
    "df.ip.count()"
   ]
  },
  {
   "cell_type": "code",
   "execution_count": 23,
   "id": "213e2681",
   "metadata": {},
   "outputs": [],
   "source": [
    "#Finding the total count of all ip addresses"
   ]
  },
  {
   "cell_type": "code",
   "execution_count": 24,
   "id": "a2d020b5",
   "metadata": {
    "scrolled": false
   },
   "outputs": [
    {
     "data": {
      "text/html": [
       "<div>\n",
       "<style scoped>\n",
       "    .dataframe tbody tr th:only-of-type {\n",
       "        vertical-align: middle;\n",
       "    }\n",
       "\n",
       "    .dataframe tbody tr th {\n",
       "        vertical-align: top;\n",
       "    }\n",
       "\n",
       "    .dataframe thead th {\n",
       "        text-align: right;\n",
       "    }\n",
       "</style>\n",
       "<table border=\"1\" class=\"dataframe\">\n",
       "  <thead>\n",
       "    <tr style=\"text-align: right;\">\n",
       "      <th></th>\n",
       "      <th>ip</th>\n",
       "      <th>chance</th>\n",
       "    </tr>\n",
       "  </thead>\n",
       "  <tbody>\n",
       "    <tr>\n",
       "      <th>0</th>\n",
       "      <td>97.105.19.58</td>\n",
       "      <td>0.316121</td>\n",
       "    </tr>\n",
       "    <tr>\n",
       "      <th>1</th>\n",
       "      <td>97.105.19.61</td>\n",
       "      <td>0.068496</td>\n",
       "    </tr>\n",
       "    <tr>\n",
       "      <th>2</th>\n",
       "      <td>192.171.117.210</td>\n",
       "      <td>0.010570</td>\n",
       "    </tr>\n",
       "    <tr>\n",
       "      <th>3</th>\n",
       "      <td>71.150.217.33</td>\n",
       "      <td>0.007544</td>\n",
       "    </tr>\n",
       "    <tr>\n",
       "      <th>4</th>\n",
       "      <td>76.185.145.231</td>\n",
       "      <td>0.005281</td>\n",
       "    </tr>\n",
       "  </tbody>\n",
       "</table>\n",
       "</div>"
      ],
      "text/plain": [
       "                ip    chance\n",
       "0     97.105.19.58  0.316121\n",
       "1     97.105.19.61  0.068496\n",
       "2  192.171.117.210  0.010570\n",
       "3    71.150.217.33  0.007544\n",
       "4   76.185.145.231  0.005281"
      ]
     },
     "execution_count": 24,
     "metadata": {},
     "output_type": "execute_result"
    }
   ],
   "source": [
    "ip_df2 = pd.DataFrame((df.ip.value_counts(dropna=False))/df.ip.count()).reset_index().rename(columns={'index': 'ip', 'ip': 'chance'})\n",
    "ip_df2.head()"
   ]
  },
  {
   "cell_type": "code",
   "execution_count": 25,
   "id": "f85079e6",
   "metadata": {},
   "outputs": [],
   "source": [
    "#Checking the chances of all ip addresses "
   ]
  },
  {
   "cell_type": "code",
   "execution_count": 26,
   "id": "a7c12f8e",
   "metadata": {
    "scrolled": true
   },
   "outputs": [
    {
     "data": {
      "text/plain": [
       "0.3161205612387153"
      ]
     },
     "execution_count": 26,
     "metadata": {},
     "output_type": "execute_result"
    }
   ],
   "source": [
    "284579/900223"
   ]
  },
  {
   "cell_type": "code",
   "execution_count": 27,
   "id": "df534ed7",
   "metadata": {},
   "outputs": [],
   "source": [
    "#To see if its correct, I take the top counted ip and divide it by the total ips and compare it to the previous df"
   ]
  },
  {
   "cell_type": "code",
   "execution_count": 28,
   "id": "1d77e9ec",
   "metadata": {
    "scrolled": true
   },
   "outputs": [
    {
     "data": {
      "text/html": [
       "<div>\n",
       "<style scoped>\n",
       "    .dataframe tbody tr th:only-of-type {\n",
       "        vertical-align: middle;\n",
       "    }\n",
       "\n",
       "    .dataframe tbody tr th {\n",
       "        vertical-align: top;\n",
       "    }\n",
       "\n",
       "    .dataframe thead th {\n",
       "        text-align: right;\n",
       "    }\n",
       "</style>\n",
       "<table border=\"1\" class=\"dataframe\">\n",
       "  <thead>\n",
       "    <tr style=\"text-align: right;\">\n",
       "      <th></th>\n",
       "      <th>ip</th>\n",
       "      <th>count</th>\n",
       "      <th>chance</th>\n",
       "    </tr>\n",
       "  </thead>\n",
       "  <tbody>\n",
       "    <tr>\n",
       "      <th>0</th>\n",
       "      <td>97.105.19.58</td>\n",
       "      <td>284579</td>\n",
       "      <td>0.316121</td>\n",
       "    </tr>\n",
       "    <tr>\n",
       "      <th>1</th>\n",
       "      <td>97.105.19.61</td>\n",
       "      <td>61662</td>\n",
       "      <td>0.068496</td>\n",
       "    </tr>\n",
       "    <tr>\n",
       "      <th>2</th>\n",
       "      <td>192.171.117.210</td>\n",
       "      <td>9515</td>\n",
       "      <td>0.010570</td>\n",
       "    </tr>\n",
       "    <tr>\n",
       "      <th>3</th>\n",
       "      <td>71.150.217.33</td>\n",
       "      <td>6791</td>\n",
       "      <td>0.007544</td>\n",
       "    </tr>\n",
       "    <tr>\n",
       "      <th>4</th>\n",
       "      <td>76.185.145.231</td>\n",
       "      <td>4754</td>\n",
       "      <td>0.005281</td>\n",
       "    </tr>\n",
       "  </tbody>\n",
       "</table>\n",
       "</div>"
      ],
      "text/plain": [
       "                ip   count    chance\n",
       "0     97.105.19.58  284579  0.316121\n",
       "1     97.105.19.61   61662  0.068496\n",
       "2  192.171.117.210    9515  0.010570\n",
       "3    71.150.217.33    6791  0.007544\n",
       "4   76.185.145.231    4754  0.005281"
      ]
     },
     "execution_count": 28,
     "metadata": {},
     "output_type": "execute_result"
    }
   ],
   "source": [
    "ip_dfp = ip_df.merge(ip_df2, on='ip')\n",
    "ip_dfp.head()"
   ]
  },
  {
   "cell_type": "code",
   "execution_count": 29,
   "id": "d878fea4",
   "metadata": {},
   "outputs": [],
   "source": [
    "#Merging the previous two df into one"
   ]
  },
  {
   "cell_type": "code",
   "execution_count": 30,
   "id": "c2dfd324",
   "metadata": {},
   "outputs": [
    {
     "data": {
      "text/plain": [
       "ip\n",
       "72.181.124.244          1\n",
       "99.203.154.42           1\n",
       "99.203.27.189           1\n",
       "131.194.184.123         1\n",
       "107.242.125.44          1\n",
       "                    ...  \n",
       "76.185.145.231       4754\n",
       "71.150.217.33        6791\n",
       "192.171.117.210      9515\n",
       "97.105.19.61        61662\n",
       "97.105.19.58       284579\n",
       "Name: count, Length: 5531, dtype: int64"
      ]
     },
     "execution_count": 30,
     "metadata": {},
     "output_type": "execute_result"
    }
   ],
   "source": [
    "ip_dfp.set_index('ip')['count'].sort_values()"
   ]
  },
  {
   "cell_type": "code",
   "execution_count": 31,
   "id": "131c3342",
   "metadata": {},
   "outputs": [],
   "source": [
    "#Setting up a way to be made into visualized graphs"
   ]
  },
  {
   "cell_type": "code",
   "execution_count": 32,
   "id": "4be95b2b",
   "metadata": {},
   "outputs": [
    {
     "data": {
      "image/png": "[encoded data removed]",
      "text/plain": [
       "<Figure size 640x480 with 1 Axes>"
      ]
     },
     "metadata": {},
     "output_type": "display_data"
    }
   ],
   "source": [
    "ip_dfp.set_index('ip')['count'].sort_values().tail(5).plot.barh()\n",
    "plt.show()"
   ]
  },
  {
   "cell_type": "code",
   "execution_count": 33,
   "id": "853af25e",
   "metadata": {
    "scrolled": false
   },
   "outputs": [],
   "source": [
    "def ip_dfpro():\n",
    "    ip_dfp.set_index('ip')['count'].sort_values().tail(5).plot.barh()\n",
    "    plt.show()"
   ]
  },
  {
   "cell_type": "code",
   "execution_count": 34,
   "id": "e424797e",
   "metadata": {},
   "outputs": [],
   "source": [
    "#A very star contrast of the first two, especially the first address."
   ]
  },
  {
   "cell_type": "code",
   "execution_count": 35,
   "id": "3a937464",
   "metadata": {},
   "outputs": [
    {
     "data": {
      "image/png": "[encoded data removed]",
      "text/plain": [
       "<Figure size 500x500 with 1 Axes>"
      ]
     },
     "metadata": {},
     "output_type": "display_data"
    }
   ],
   "source": [
    "ip_dfp.set_index('ip')['count'].sort_values().tail(20).plot.barh(figsize=(5,5))\n",
    "plt.show()"
   ]
  },
  {
   "cell_type": "code",
   "execution_count": 36,
   "id": "28edf69b",
   "metadata": {},
   "outputs": [],
   "source": [
    "def ip_dfp():\n",
    "    ip_df.set_index('ip')['count'].sort_values().tail(20).plot.barh(figsize=(5,5))\n",
    "    plt.show()"
   ]
  },
  {
   "cell_type": "code",
   "execution_count": 37,
   "id": "327b406b",
   "metadata": {},
   "outputs": [],
   "source": [
    "#Checking to see more and it is more or less the same result."
   ]
  },
  {
   "cell_type": "code",
   "execution_count": 38,
   "id": "bb518c4f",
   "metadata": {},
   "outputs": [
    {
     "data": {
      "text/html": [
       "<div>\n",
       "<style scoped>\n",
       "    .dataframe tbody tr th:only-of-type {\n",
       "        vertical-align: middle;\n",
       "    }\n",
       "\n",
       "    .dataframe tbody tr th {\n",
       "        vertical-align: top;\n",
       "    }\n",
       "\n",
       "    .dataframe thead th {\n",
       "        text-align: right;\n",
       "    }\n",
       "</style>\n",
       "<table border=\"1\" class=\"dataframe\">\n",
       "  <thead>\n",
       "    <tr style=\"text-align: right;\">\n",
       "      <th></th>\n",
       "      <th>time</th>\n",
       "      <th>count</th>\n",
       "    </tr>\n",
       "  </thead>\n",
       "  <tbody>\n",
       "    <tr>\n",
       "      <th>0</th>\n",
       "      <td>09:03:00</td>\n",
       "      <td>81</td>\n",
       "    </tr>\n",
       "    <tr>\n",
       "      <th>1</th>\n",
       "      <td>09:01:59</td>\n",
       "      <td>79</td>\n",
       "    </tr>\n",
       "    <tr>\n",
       "      <th>2</th>\n",
       "      <td>09:02:45</td>\n",
       "      <td>75</td>\n",
       "    </tr>\n",
       "    <tr>\n",
       "      <th>3</th>\n",
       "      <td>09:02:16</td>\n",
       "      <td>75</td>\n",
       "    </tr>\n",
       "    <tr>\n",
       "      <th>4</th>\n",
       "      <td>09:05:45</td>\n",
       "      <td>74</td>\n",
       "    </tr>\n",
       "  </tbody>\n",
       "</table>\n",
       "</div>"
      ],
      "text/plain": [
       "       time  count\n",
       "0  09:03:00     81\n",
       "1  09:01:59     79\n",
       "2  09:02:45     75\n",
       "3  09:02:16     75\n",
       "4  09:05:45     74"
      ]
     },
     "execution_count": 38,
     "metadata": {},
     "output_type": "execute_result"
    }
   ],
   "source": [
    "time_df = pd.DataFrame(df.time.value_counts(dropna=False)).reset_index().rename(columns={'index': 'time', 'time': 'count'})\n",
    "time_df.head()"
   ]
  },
  {
   "cell_type": "code",
   "execution_count": 39,
   "id": "6b2cffe5",
   "metadata": {},
   "outputs": [],
   "source": [
    "#Now I decided to check the time of the access of the address"
   ]
  },
  {
   "cell_type": "code",
   "execution_count": 40,
   "id": "b39a94d1",
   "metadata": {},
   "outputs": [
    {
     "data": {
      "text/html": [
       "<div>\n",
       "<style scoped>\n",
       "    .dataframe tbody tr th:only-of-type {\n",
       "        vertical-align: middle;\n",
       "    }\n",
       "\n",
       "    .dataframe tbody tr th {\n",
       "        vertical-align: top;\n",
       "    }\n",
       "\n",
       "    .dataframe thead th {\n",
       "        text-align: right;\n",
       "    }\n",
       "</style>\n",
       "<table border=\"1\" class=\"dataframe\">\n",
       "  <thead>\n",
       "    <tr style=\"text-align: right;\">\n",
       "      <th></th>\n",
       "      <th>time</th>\n",
       "      <th>count</th>\n",
       "    </tr>\n",
       "  </thead>\n",
       "  <tbody>\n",
       "    <tr>\n",
       "      <th>73162</th>\n",
       "      <td>04:58:23</td>\n",
       "      <td>1</td>\n",
       "    </tr>\n",
       "    <tr>\n",
       "      <th>73163</th>\n",
       "      <td>04:58:29</td>\n",
       "      <td>1</td>\n",
       "    </tr>\n",
       "    <tr>\n",
       "      <th>73164</th>\n",
       "      <td>04:58:30</td>\n",
       "      <td>1</td>\n",
       "    </tr>\n",
       "    <tr>\n",
       "      <th>73165</th>\n",
       "      <td>04:58:31</td>\n",
       "      <td>1</td>\n",
       "    </tr>\n",
       "    <tr>\n",
       "      <th>73166</th>\n",
       "      <td>07:28:59</td>\n",
       "      <td>1</td>\n",
       "    </tr>\n",
       "  </tbody>\n",
       "</table>\n",
       "</div>"
      ],
      "text/plain": [
       "           time  count\n",
       "73162  04:58:23      1\n",
       "73163  04:58:29      1\n",
       "73164  04:58:30      1\n",
       "73165  04:58:31      1\n",
       "73166  07:28:59      1"
      ]
     },
     "execution_count": 40,
     "metadata": {},
     "output_type": "execute_result"
    }
   ],
   "source": [
    "time_df.tail()"
   ]
  },
  {
   "cell_type": "code",
   "execution_count": 41,
   "id": "b073c940",
   "metadata": {},
   "outputs": [],
   "source": [
    "#Checking the tail end"
   ]
  },
  {
   "cell_type": "code",
   "execution_count": 42,
   "id": "ef35f17e",
   "metadata": {},
   "outputs": [
    {
     "data": {
      "image/png": "[encoded data removed]",
      "text/plain": [
       "<Figure size 640x480 with 1 Axes>"
      ]
     },
     "metadata": {},
     "output_type": "display_data"
    }
   ],
   "source": [
    "time_df.set_index('time')['count'].sort_values().tail(30).plot.barh()\n",
    "plt.show()"
   ]
  },
  {
   "cell_type": "code",
   "execution_count": 43,
   "id": "0fc6f9c6",
   "metadata": {
    "scrolled": false
   },
   "outputs": [],
   "source": [
    "def time_dfp():\n",
    "    time_df.set_index('time')['count'].sort_values().tail(30).plot.barh()\n",
    "    plt.show()"
   ]
  },
  {
   "cell_type": "code",
   "execution_count": 44,
   "id": "b50b7d30",
   "metadata": {},
   "outputs": [],
   "source": [
    "# A visualization on some of the times the ips were accessed"
   ]
  },
  {
   "cell_type": "code",
   "execution_count": 45,
   "id": "416b2e74",
   "metadata": {},
   "outputs": [
    {
     "data": {
      "text/html": [
       "<div>\n",
       "<style scoped>\n",
       "    .dataframe tbody tr th:only-of-type {\n",
       "        vertical-align: middle;\n",
       "    }\n",
       "\n",
       "    .dataframe tbody tr th {\n",
       "        vertical-align: top;\n",
       "    }\n",
       "\n",
       "    .dataframe thead th {\n",
       "        text-align: right;\n",
       "    }\n",
       "</style>\n",
       "<table border=\"1\" class=\"dataframe\">\n",
       "  <thead>\n",
       "    <tr style=\"text-align: right;\">\n",
       "      <th></th>\n",
       "      <th>time</th>\n",
       "      <th>count</th>\n",
       "      <th>ip</th>\n",
       "    </tr>\n",
       "  </thead>\n",
       "  <tbody>\n",
       "    <tr>\n",
       "      <th>0</th>\n",
       "      <td>09:03:00</td>\n",
       "      <td>81</td>\n",
       "      <td>104.219.136.100</td>\n",
       "    </tr>\n",
       "    <tr>\n",
       "      <th>1</th>\n",
       "      <td>09:03:00</td>\n",
       "      <td>81</td>\n",
       "      <td>72.191.30.236</td>\n",
       "    </tr>\n",
       "    <tr>\n",
       "      <th>2</th>\n",
       "      <td>09:03:00</td>\n",
       "      <td>81</td>\n",
       "      <td>70.114.36.54</td>\n",
       "    </tr>\n",
       "    <tr>\n",
       "      <th>3</th>\n",
       "      <td>09:03:00</td>\n",
       "      <td>81</td>\n",
       "      <td>47.183.128.23</td>\n",
       "    </tr>\n",
       "    <tr>\n",
       "      <th>4</th>\n",
       "      <td>09:03:00</td>\n",
       "      <td>81</td>\n",
       "      <td>24.243.31.59</td>\n",
       "    </tr>\n",
       "    <tr>\n",
       "      <th>5</th>\n",
       "      <td>09:01:59</td>\n",
       "      <td>79</td>\n",
       "      <td>136.49.16.212</td>\n",
       "    </tr>\n",
       "    <tr>\n",
       "      <th>6</th>\n",
       "      <td>09:01:59</td>\n",
       "      <td>79</td>\n",
       "      <td>173.174.211.244</td>\n",
       "    </tr>\n",
       "    <tr>\n",
       "      <th>7</th>\n",
       "      <td>09:01:59</td>\n",
       "      <td>79</td>\n",
       "      <td>71.158.155.73</td>\n",
       "    </tr>\n",
       "    <tr>\n",
       "      <th>8</th>\n",
       "      <td>09:01:59</td>\n",
       "      <td>79</td>\n",
       "      <td>23.228.172.124</td>\n",
       "    </tr>\n",
       "    <tr>\n",
       "      <th>9</th>\n",
       "      <td>09:01:59</td>\n",
       "      <td>79</td>\n",
       "      <td>71.137.144.185</td>\n",
       "    </tr>\n",
       "    <tr>\n",
       "      <th>10</th>\n",
       "      <td>09:01:59</td>\n",
       "      <td>79</td>\n",
       "      <td>71.158.155.118</td>\n",
       "    </tr>\n",
       "    <tr>\n",
       "      <th>11</th>\n",
       "      <td>09:01:59</td>\n",
       "      <td>79</td>\n",
       "      <td>67.78.112.162</td>\n",
       "    </tr>\n",
       "    <tr>\n",
       "      <th>12</th>\n",
       "      <td>09:02:45</td>\n",
       "      <td>75</td>\n",
       "      <td>67.11.215.110</td>\n",
       "    </tr>\n",
       "    <tr>\n",
       "      <th>13</th>\n",
       "      <td>09:02:45</td>\n",
       "      <td>75</td>\n",
       "      <td>172.110.80.227</td>\n",
       "    </tr>\n",
       "    <tr>\n",
       "      <th>14</th>\n",
       "      <td>09:02:45</td>\n",
       "      <td>75</td>\n",
       "      <td>71.62.94.245</td>\n",
       "    </tr>\n",
       "    <tr>\n",
       "      <th>15</th>\n",
       "      <td>09:02:45</td>\n",
       "      <td>75</td>\n",
       "      <td>67.80.48.111</td>\n",
       "    </tr>\n",
       "    <tr>\n",
       "      <th>16</th>\n",
       "      <td>09:02:45</td>\n",
       "      <td>75</td>\n",
       "      <td>70.123.205.224</td>\n",
       "    </tr>\n",
       "    <tr>\n",
       "      <th>17</th>\n",
       "      <td>09:02:45</td>\n",
       "      <td>75</td>\n",
       "      <td>70.130.122.154</td>\n",
       "    </tr>\n",
       "    <tr>\n",
       "      <th>18</th>\n",
       "      <td>09:02:45</td>\n",
       "      <td>75</td>\n",
       "      <td>68.206.254.17</td>\n",
       "    </tr>\n",
       "    <tr>\n",
       "      <th>19</th>\n",
       "      <td>09:02:45</td>\n",
       "      <td>75</td>\n",
       "      <td>173.174.212.103</td>\n",
       "    </tr>\n",
       "  </tbody>\n",
       "</table>\n",
       "</div>"
      ],
      "text/plain": [
       "        time  count               ip\n",
       "0   09:03:00     81  104.219.136.100\n",
       "1   09:03:00     81    72.191.30.236\n",
       "2   09:03:00     81     70.114.36.54\n",
       "3   09:03:00     81    47.183.128.23\n",
       "4   09:03:00     81     24.243.31.59\n",
       "5   09:01:59     79    136.49.16.212\n",
       "6   09:01:59     79  173.174.211.244\n",
       "7   09:01:59     79    71.158.155.73\n",
       "8   09:01:59     79   23.228.172.124\n",
       "9   09:01:59     79   71.137.144.185\n",
       "10  09:01:59     79   71.158.155.118\n",
       "11  09:01:59     79    67.78.112.162\n",
       "12  09:02:45     75    67.11.215.110\n",
       "13  09:02:45     75   172.110.80.227\n",
       "14  09:02:45     75     71.62.94.245\n",
       "15  09:02:45     75     67.80.48.111\n",
       "16  09:02:45     75   70.123.205.224\n",
       "17  09:02:45     75   70.130.122.154\n",
       "18  09:02:45     75    68.206.254.17\n",
       "19  09:02:45     75  173.174.212.103"
      ]
     },
     "execution_count": 45,
     "metadata": {},
     "output_type": "execute_result"
    }
   ],
   "source": [
    "time_df = time_df.merge(ip_df, on='count')\n",
    "time_df.head(20)"
   ]
  },
  {
   "cell_type": "code",
   "execution_count": 46,
   "id": "b5f7e6e9",
   "metadata": {
    "scrolled": false
   },
   "outputs": [],
   "source": [
    "def df_accessp():\n",
    "    time_df = time_df.merge(ip_df, on='count')\n",
    "    time_df.head(20)"
   ]
  },
  {
   "cell_type": "code",
   "execution_count": 47,
   "id": "f385f22e",
   "metadata": {},
   "outputs": [],
   "source": [
    "#Combining the df togther for more detail"
   ]
  },
  {
   "cell_type": "code",
   "execution_count": 48,
   "id": "fc22e4eb",
   "metadata": {},
   "outputs": [
    {
     "data": {
      "text/html": [
       "<div>\n",
       "<style scoped>\n",
       "    .dataframe tbody tr th:only-of-type {\n",
       "        vertical-align: middle;\n",
       "    }\n",
       "\n",
       "    .dataframe tbody tr th {\n",
       "        vertical-align: top;\n",
       "    }\n",
       "\n",
       "    .dataframe thead th {\n",
       "        text-align: right;\n",
       "    }\n",
       "</style>\n",
       "<table border=\"1\" class=\"dataframe\">\n",
       "  <thead>\n",
       "    <tr style=\"text-align: right;\">\n",
       "      <th></th>\n",
       "      <th>address</th>\n",
       "      <th>count</th>\n",
       "    </tr>\n",
       "  </thead>\n",
       "  <tbody>\n",
       "    <tr>\n",
       "      <th>0</th>\n",
       "      <td>/</td>\n",
       "      <td>50313</td>\n",
       "    </tr>\n",
       "    <tr>\n",
       "      <th>1</th>\n",
       "      <td>search/search_index.json</td>\n",
       "      <td>19519</td>\n",
       "    </tr>\n",
       "    <tr>\n",
       "      <th>2</th>\n",
       "      <td>javascript-i</td>\n",
       "      <td>18983</td>\n",
       "    </tr>\n",
       "    <tr>\n",
       "      <th>3</th>\n",
       "      <td>toc</td>\n",
       "      <td>18297</td>\n",
       "    </tr>\n",
       "    <tr>\n",
       "      <th>4</th>\n",
       "      <td>java-iii</td>\n",
       "      <td>13733</td>\n",
       "    </tr>\n",
       "    <tr>\n",
       "      <th>...</th>\n",
       "      <td>...</td>\n",
       "      <td>...</td>\n",
       "    </tr>\n",
       "    <tr>\n",
       "      <th>2309</th>\n",
       "      <td>12-distributed-ml/6.1-prepare-part-1</td>\n",
       "      <td>1</td>\n",
       "    </tr>\n",
       "    <tr>\n",
       "      <th>2310</th>\n",
       "      <td>12-distributed-ml/6.4-prepare-part-4</td>\n",
       "      <td>1</td>\n",
       "    </tr>\n",
       "    <tr>\n",
       "      <th>2311</th>\n",
       "      <td>4-python</td>\n",
       "      <td>1</td>\n",
       "    </tr>\n",
       "    <tr>\n",
       "      <th>2312</th>\n",
       "      <td>4-python/overview</td>\n",
       "      <td>1</td>\n",
       "    </tr>\n",
       "    <tr>\n",
       "      <th>2313</th>\n",
       "      <td>appendix/professional-development/post-intervi...</td>\n",
       "      <td>1</td>\n",
       "    </tr>\n",
       "  </tbody>\n",
       "</table>\n",
       "<p>2314 rows × 2 columns</p>\n",
       "</div>"
      ],
      "text/plain": [
       "                                                address  count\n",
       "0                                                     /  50313\n",
       "1                              search/search_index.json  19519\n",
       "2                                          javascript-i  18983\n",
       "3                                                   toc  18297\n",
       "4                                              java-iii  13733\n",
       "...                                                 ...    ...\n",
       "2309               12-distributed-ml/6.1-prepare-part-1      1\n",
       "2310               12-distributed-ml/6.4-prepare-part-4      1\n",
       "2311                                           4-python      1\n",
       "2312                                  4-python/overview      1\n",
       "2313  appendix/professional-development/post-intervi...      1\n",
       "\n",
       "[2314 rows x 2 columns]"
      ]
     },
     "execution_count": 48,
     "metadata": {},
     "output_type": "execute_result"
    }
   ],
   "source": [
    "add_df = pd.DataFrame(df.address.value_counts(dropna=False)).reset_index().rename(columns={'index': 'address', 'address': 'count'})\n",
    "add_df"
   ]
  },
  {
   "cell_type": "code",
   "execution_count": 49,
   "id": "cdff4899",
   "metadata": {},
   "outputs": [],
   "source": [
    "#Now I check the address itself to see what I'm looking at"
   ]
  },
  {
   "cell_type": "code",
   "execution_count": 50,
   "id": "eb80d33b",
   "metadata": {
    "scrolled": true
   },
   "outputs": [
    {
     "data": {
      "text/html": [
       "<div>\n",
       "<style scoped>\n",
       "    .dataframe tbody tr th:only-of-type {\n",
       "        vertical-align: middle;\n",
       "    }\n",
       "\n",
       "    .dataframe tbody tr th {\n",
       "        vertical-align: top;\n",
       "    }\n",
       "\n",
       "    .dataframe thead th {\n",
       "        text-align: right;\n",
       "    }\n",
       "</style>\n",
       "<table border=\"1\" class=\"dataframe\">\n",
       "  <thead>\n",
       "    <tr style=\"text-align: right;\">\n",
       "      <th></th>\n",
       "      <th>address</th>\n",
       "      <th>chance</th>\n",
       "    </tr>\n",
       "  </thead>\n",
       "  <tbody>\n",
       "    <tr>\n",
       "      <th>0</th>\n",
       "      <td>/</td>\n",
       "      <td>0.055889</td>\n",
       "    </tr>\n",
       "    <tr>\n",
       "      <th>1</th>\n",
       "      <td>search/search_index.json</td>\n",
       "      <td>0.021682</td>\n",
       "    </tr>\n",
       "    <tr>\n",
       "      <th>2</th>\n",
       "      <td>javascript-i</td>\n",
       "      <td>0.021087</td>\n",
       "    </tr>\n",
       "    <tr>\n",
       "      <th>3</th>\n",
       "      <td>toc</td>\n",
       "      <td>0.020325</td>\n",
       "    </tr>\n",
       "    <tr>\n",
       "      <th>4</th>\n",
       "      <td>java-iii</td>\n",
       "      <td>0.015255</td>\n",
       "    </tr>\n",
       "  </tbody>\n",
       "</table>\n",
       "</div>"
      ],
      "text/plain": [
       "                    address    chance\n",
       "0                         /  0.055889\n",
       "1  search/search_index.json  0.021682\n",
       "2              javascript-i  0.021087\n",
       "3                       toc  0.020325\n",
       "4                  java-iii  0.015255"
      ]
     },
     "execution_count": 50,
     "metadata": {},
     "output_type": "execute_result"
    }
   ],
   "source": [
    "add_df2 = pd.DataFrame((df.address.value_counts(dropna=False))/df.ip.count()).reset_index().rename(columns={'index': 'address', 'address': 'chance'})\n",
    "add_df2.head()"
   ]
  },
  {
   "cell_type": "code",
   "execution_count": 51,
   "id": "91a0ca44",
   "metadata": {},
   "outputs": [],
   "source": [
    "#Checking the likelyhood of the visits to the addresses"
   ]
  },
  {
   "cell_type": "code",
   "execution_count": 52,
   "id": "013874ac",
   "metadata": {
    "scrolled": true
   },
   "outputs": [
    {
     "data": {
      "text/html": [
       "<div>\n",
       "<style scoped>\n",
       "    .dataframe tbody tr th:only-of-type {\n",
       "        vertical-align: middle;\n",
       "    }\n",
       "\n",
       "    .dataframe tbody tr th {\n",
       "        vertical-align: top;\n",
       "    }\n",
       "\n",
       "    .dataframe thead th {\n",
       "        text-align: right;\n",
       "    }\n",
       "</style>\n",
       "<table border=\"1\" class=\"dataframe\">\n",
       "  <thead>\n",
       "    <tr style=\"text-align: right;\">\n",
       "      <th></th>\n",
       "      <th>address</th>\n",
       "      <th>count</th>\n",
       "      <th>chance</th>\n",
       "    </tr>\n",
       "  </thead>\n",
       "  <tbody>\n",
       "    <tr>\n",
       "      <th>0</th>\n",
       "      <td>/</td>\n",
       "      <td>50313</td>\n",
       "      <td>0.055889</td>\n",
       "    </tr>\n",
       "    <tr>\n",
       "      <th>1</th>\n",
       "      <td>search/search_index.json</td>\n",
       "      <td>19519</td>\n",
       "      <td>0.021682</td>\n",
       "    </tr>\n",
       "    <tr>\n",
       "      <th>2</th>\n",
       "      <td>javascript-i</td>\n",
       "      <td>18983</td>\n",
       "      <td>0.021087</td>\n",
       "    </tr>\n",
       "    <tr>\n",
       "      <th>3</th>\n",
       "      <td>toc</td>\n",
       "      <td>18297</td>\n",
       "      <td>0.020325</td>\n",
       "    </tr>\n",
       "    <tr>\n",
       "      <th>4</th>\n",
       "      <td>java-iii</td>\n",
       "      <td>13733</td>\n",
       "      <td>0.015255</td>\n",
       "    </tr>\n",
       "  </tbody>\n",
       "</table>\n",
       "</div>"
      ],
      "text/plain": [
       "                    address  count    chance\n",
       "0                         /  50313  0.055889\n",
       "1  search/search_index.json  19519  0.021682\n",
       "2              javascript-i  18983  0.021087\n",
       "3                       toc  18297  0.020325\n",
       "4                  java-iii  13733  0.015255"
      ]
     },
     "execution_count": 52,
     "metadata": {},
     "output_type": "execute_result"
    }
   ],
   "source": [
    "add_dfp = add_df.merge(add_df2, on='address')\n",
    "add_dfp.head()"
   ]
  },
  {
   "cell_type": "code",
   "execution_count": 53,
   "id": "fa9feb3d",
   "metadata": {},
   "outputs": [],
   "source": [
    "#combining the previous df together "
   ]
  },
  {
   "cell_type": "code",
   "execution_count": 54,
   "id": "f487e314",
   "metadata": {
    "scrolled": false
   },
   "outputs": [
    {
     "data": {
      "text/plain": [
       "address\n",
       "appendix/professional-development/post-interview-review-form        1\n",
       "content/git/index.html                                              1\n",
       "students/units/75/sub_units/268                                     1\n",
       "10.00_Intro                                                         1\n",
       "students/300/notes                                                  1\n",
       "                                                                ...  \n",
       "java-iii                                                        13733\n",
       "toc                                                             18297\n",
       "javascript-i                                                    18983\n",
       "search/search_index.json                                        19519\n",
       "/                                                               50313\n",
       "Name: count, Length: 2314, dtype: int64"
      ]
     },
     "execution_count": 54,
     "metadata": {},
     "output_type": "execute_result"
    }
   ],
   "source": [
    "add_dfp.set_index('address')['count'].sort_values()"
   ]
  },
  {
   "cell_type": "code",
   "execution_count": 55,
   "id": "fafb6821",
   "metadata": {},
   "outputs": [],
   "source": [
    "#checking the counts of each address"
   ]
  },
  {
   "cell_type": "code",
   "execution_count": 56,
   "id": "352e3370",
   "metadata": {},
   "outputs": [
    {
     "data": {
      "image/png": "[encoded data removed]",
      "text/plain": [
       "<Figure size 640x480 with 1 Axes>"
      ]
     },
     "metadata": {},
     "output_type": "display_data"
    }
   ],
   "source": [
    "add_df.set_index('address')['count'].sort_values().tail(20).plot.barh()\n",
    "plt.show()"
   ]
  },
  {
   "cell_type": "code",
   "execution_count": 57,
   "id": "5a67ab6a",
   "metadata": {
    "scrolled": false
   },
   "outputs": [],
   "source": [
    "def add_dfc():\n",
    "    add_df.set_index('address')['count'].sort_values().tail(20).plot.barh()\n",
    "    plt.show()"
   ]
  },
  {
   "cell_type": "code",
   "execution_count": 58,
   "id": "ba8da9b4",
   "metadata": {},
   "outputs": [],
   "source": [
    "# My findings show a '/' address being the most popular, possibly being the homepage, but it could also be a dead page"
   ]
  },
  {
   "cell_type": "code",
   "execution_count": 59,
   "id": "a04f1c54",
   "metadata": {},
   "outputs": [
    {
     "data": {
      "image/png": "[encoded data removed]",
      "text/plain": [
       "<Figure size 640x480 with 1 Axes>"
      ]
     },
     "metadata": {},
     "output_type": "display_data"
    }
   ],
   "source": [
    "add_df.set_index('address')['count'].sort_values().head(20).plot.barh()\n",
    "plt.show()"
   ]
  },
  {
   "cell_type": "code",
   "execution_count": 60,
   "id": "5fe8b738",
   "metadata": {},
   "outputs": [],
   "source": [
    "def add_df2c():\n",
    "    add_df.set_index('address')['count'].sort_values().head(20).plot.barh()\n",
    "    plt.show()"
   ]
  },
  {
   "cell_type": "code",
   "execution_count": 61,
   "id": "8394cc97",
   "metadata": {},
   "outputs": [],
   "source": [
    "#Checking the bottom of the list, mostly resources."
   ]
  },
  {
   "cell_type": "code",
   "execution_count": null,
   "id": "4483cc8f",
   "metadata": {},
   "outputs": [],
   "source": []
  }
 ],
 "metadata": {
  "kernelspec": {
   "display_name": "Python 3 (ipykernel)",
   "language": "python",
   "name": "python3"
  },
  "language_info": {
   "codemirror_mode": {
    "name": "ipython",
    "version": 3
   },
   "file_extension": ".py",
   "mimetype": "text/x-python",
   "name": "python",
   "nbconvert_exporter": "python",
   "pygments_lexer": "ipython3",
   "version": "3.9.13"
  }
 },
 "nbformat": 4,
 "nbformat_minor": 5
}
